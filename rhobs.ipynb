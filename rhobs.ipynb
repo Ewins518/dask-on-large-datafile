{
 "cells": [
  {
   "cell_type": "markdown",
   "id": "af0bf37e",
   "metadata": {},
   "source": [
    "## Let see what's the content of the file"
   ]
  },
  {
   "cell_type": "code",
   "execution_count": 1,
   "id": "3c9fe6ce",
   "metadata": {},
   "outputs": [
    {
     "name": "stdout",
     "output_type": "stream",
     "text": [
      "Your mission shall you accept it is to\n",
      "\n",
      "* Explain every column.\n",
      "\n",
      "* Find the 3 richest person.\n",
      "\n",
      "\n",
      "\n",
      "This is a simple test, it should not take you more 30minutes to code.\n",
      "\n",
      "\n",
      "\n",
      "\n",
      "\n",
      "\n",
      "\n",
      "a,b,c,d,e,f,g\n",
      "\n",
      "0,longue description 0,Victor,Évrat,1779,0,1779\n",
      "\n",
      "1,longue description 1,Ugo,Ogier,3218,0,3218\n",
      "\n",
      "2,longue description 2,Gerard,Zola,3909,0,3909\n",
      "\n",
      "3,longue description 3,Ingrid,Quesada,2672,0,2672\n",
      "\n",
      "4,longue description 4,Xavier,Yvars,4224,0,4224\n",
      "\n",
      "5,longue description 5,Régis,Ferry,3479,0,3479\n",
      "\n"
     ]
    }
   ],
   "source": [
    "i=0\n",
    "with open(\"./data/-\") as infile:\n",
    "    for line in infile:\n",
    "        print(line)\n",
    "        i = i+1\n",
    "        if i == 15:\n",
    "            break"
   ]
  },
  {
   "cell_type": "markdown",
   "id": "85c04e1f",
   "metadata": {},
   "source": [
    "#### The file contains a text and the data. \n",
    "\n",
    "#### Now, we'll delete the text and keep only the data"
   ]
  },
  {
   "cell_type": "code",
   "execution_count": 1,
   "id": "db30aaee",
   "metadata": {},
   "outputs": [
    {
     "name": "stdout",
     "output_type": "stream",
     "text": [
      "Lines removed. Output file saved at: output.txt\n"
     ]
    }
   ],
   "source": [
    "input_file_path = './data/-'\n",
    "output_file_path = 'output.txt'\n",
    "\n",
    "with open(input_file_path, 'r') as infile, open(output_file_path, 'w') as outfile:\n",
    "    # Skip the first 9 lines\n",
    "    for _ in range(9):\n",
    "        next(infile)\n",
    "\n",
    "    # Write the remaining lines to the output file\n",
    "    for line in infile:\n",
    "        outfile.write(line)\n",
    "\n",
    "print(f'Lines removed. Output file saved at: {output_file_path}')\n"
   ]
  },
  {
   "cell_type": "markdown",
   "id": "7f525484",
   "metadata": {},
   "source": [
    "### We have now a new text file with only data\n",
    "\n"
   ]
  },
  {
   "cell_type": "markdown",
   "id": "4a3a024e",
   "metadata": {},
   "source": [
    "#### We rename manually the *output.txt* to *output.csv*"
   ]
  },
  {
   "cell_type": "code",
   "execution_count": 6,
   "id": "c4ee289e",
   "metadata": {},
   "outputs": [
    {
     "data": {
      "text/html": [
       "<div>\n",
       "<style scoped>\n",
       "    .dataframe tbody tr th:only-of-type {\n",
       "        vertical-align: middle;\n",
       "    }\n",
       "\n",
       "    .dataframe tbody tr th {\n",
       "        vertical-align: top;\n",
       "    }\n",
       "\n",
       "    .dataframe thead th {\n",
       "        text-align: right;\n",
       "    }\n",
       "</style>\n",
       "<table border=\"1\" class=\"dataframe\">\n",
       "  <thead>\n",
       "    <tr style=\"text-align: right;\">\n",
       "      <th></th>\n",
       "      <th>a</th>\n",
       "      <th>b</th>\n",
       "      <th>c</th>\n",
       "      <th>d</th>\n",
       "      <th>e</th>\n",
       "      <th>f</th>\n",
       "      <th>g</th>\n",
       "    </tr>\n",
       "  </thead>\n",
       "  <tbody>\n",
       "    <tr>\n",
       "      <th>0</th>\n",
       "      <td>1</td>\n",
       "      <td>longue description 1</td>\n",
       "      <td>Ugo</td>\n",
       "      <td>Ogier</td>\n",
       "      <td>3218</td>\n",
       "      <td>0</td>\n",
       "      <td>3218</td>\n",
       "    </tr>\n",
       "    <tr>\n",
       "      <th>1</th>\n",
       "      <td>2</td>\n",
       "      <td>longue description 2</td>\n",
       "      <td>Gerard</td>\n",
       "      <td>Zola</td>\n",
       "      <td>3909</td>\n",
       "      <td>0</td>\n",
       "      <td>3909</td>\n",
       "    </tr>\n",
       "    <tr>\n",
       "      <th>2</th>\n",
       "      <td>3</td>\n",
       "      <td>longue description 3</td>\n",
       "      <td>Ingrid</td>\n",
       "      <td>Quesada</td>\n",
       "      <td>2672</td>\n",
       "      <td>0</td>\n",
       "      <td>2672</td>\n",
       "    </tr>\n",
       "    <tr>\n",
       "      <th>3</th>\n",
       "      <td>4</td>\n",
       "      <td>longue description 4</td>\n",
       "      <td>Xavier</td>\n",
       "      <td>Yvars</td>\n",
       "      <td>4224</td>\n",
       "      <td>0</td>\n",
       "      <td>4224</td>\n",
       "    </tr>\n",
       "    <tr>\n",
       "      <th>4</th>\n",
       "      <td>5</td>\n",
       "      <td>longue description 5</td>\n",
       "      <td>Régis</td>\n",
       "      <td>Ferry</td>\n",
       "      <td>3479</td>\n",
       "      <td>0</td>\n",
       "      <td>3479</td>\n",
       "    </tr>\n",
       "  </tbody>\n",
       "</table>\n",
       "</div>"
      ],
      "text/plain": [
       "   a                     b       c        d     e  f     g\n",
       "0  1  longue description 1     Ugo    Ogier  3218  0  3218\n",
       "1  2  longue description 2  Gerard     Zola  3909  0  3909\n",
       "2  3  longue description 3  Ingrid  Quesada  2672  0  2672\n",
       "3  4  longue description 4  Xavier    Yvars  4224  0  4224\n",
       "4  5  longue description 5   Régis    Ferry  3479  0  3479"
      ]
     },
     "execution_count": 6,
     "metadata": {},
     "output_type": "execute_result"
    }
   ],
   "source": [
    "import dask.dataframe as dd\n",
    "\n",
    "file_path = 'output.csv'\n",
    "\n",
    "ddf = dd.read_csv(file_path) \n",
    "ddf.columns = ['a', 'b', 'c', 'd', 'e', 'f', 'g']\n",
    "ddf.head()"
   ]
  },
  {
   "cell_type": "markdown",
   "id": "526badd8",
   "metadata": {},
   "source": [
    "## Let explain each column\n",
    "* column *a* : Index or ID of each row\n",
    "* column *b* : Detailed description or long description associated with each entry.\n",
    "* column *c* : First name of the person associated with each entry.\n",
    "* column *d* : Last name of the person associated with each entry.\n",
    "* column *e* : Weekly or monthly income\n",
    "* column *f* : Weekly or monthly debt\n",
    "* column *g* : total wealth"
   ]
  },
  {
   "cell_type": "markdown",
   "id": "0a50317b",
   "metadata": {},
   "source": [
    "### Let keep and rename necessary columns"
   ]
  },
  {
   "cell_type": "code",
   "execution_count": 7,
   "id": "5597b240",
   "metadata": {},
   "outputs": [
    {
     "data": {
      "text/html": [
       "<div>\n",
       "<style scoped>\n",
       "    .dataframe tbody tr th:only-of-type {\n",
       "        vertical-align: middle;\n",
       "    }\n",
       "\n",
       "    .dataframe tbody tr th {\n",
       "        vertical-align: top;\n",
       "    }\n",
       "\n",
       "    .dataframe thead th {\n",
       "        text-align: right;\n",
       "    }\n",
       "</style>\n",
       "<table border=\"1\" class=\"dataframe\">\n",
       "  <thead>\n",
       "    <tr style=\"text-align: right;\">\n",
       "      <th></th>\n",
       "      <th>full name</th>\n",
       "      <th>income</th>\n",
       "      <th>debt</th>\n",
       "      <th>wealth</th>\n",
       "    </tr>\n",
       "  </thead>\n",
       "  <tbody>\n",
       "    <tr>\n",
       "      <th>0</th>\n",
       "      <td>Ogier Ugo</td>\n",
       "      <td>3218</td>\n",
       "      <td>0</td>\n",
       "      <td>3218</td>\n",
       "    </tr>\n",
       "    <tr>\n",
       "      <th>1</th>\n",
       "      <td>Zola Gerard</td>\n",
       "      <td>3909</td>\n",
       "      <td>0</td>\n",
       "      <td>3909</td>\n",
       "    </tr>\n",
       "    <tr>\n",
       "      <th>2</th>\n",
       "      <td>Quesada Ingrid</td>\n",
       "      <td>2672</td>\n",
       "      <td>0</td>\n",
       "      <td>2672</td>\n",
       "    </tr>\n",
       "    <tr>\n",
       "      <th>3</th>\n",
       "      <td>Yvars Xavier</td>\n",
       "      <td>4224</td>\n",
       "      <td>0</td>\n",
       "      <td>4224</td>\n",
       "    </tr>\n",
       "    <tr>\n",
       "      <th>4</th>\n",
       "      <td>Ferry Régis</td>\n",
       "      <td>3479</td>\n",
       "      <td>0</td>\n",
       "      <td>3479</td>\n",
       "    </tr>\n",
       "  </tbody>\n",
       "</table>\n",
       "</div>"
      ],
      "text/plain": [
       "        full name  income  debt  wealth\n",
       "0       Ogier Ugo    3218     0    3218\n",
       "1     Zola Gerard    3909     0    3909\n",
       "2  Quesada Ingrid    2672     0    2672\n",
       "3    Yvars Xavier    4224     0    4224\n",
       "4     Ferry Régis    3479     0    3479"
      ]
     },
     "execution_count": 7,
     "metadata": {},
     "output_type": "execute_result"
    }
   ],
   "source": [
    "ddf['full name'] = ddf['d'] + ' ' + ddf['c']\n",
    "ddf = ddf.rename(columns={\"e\":\"income\", \"f\": \"debt\", \"g\": \"wealth\"})\n",
    "\n",
    "ddf = ddf[[\"full name\", \"income\", \"debt\", \"wealth\"]]\n",
    "ddf.head()"
   ]
  },
  {
   "cell_type": "code",
   "execution_count": 11,
   "id": "c95c3e93",
   "metadata": {},
   "outputs": [
    {
     "name": "stdout",
     "output_type": "stream",
     "text": [
      "<class 'dask.dataframe.core.DataFrame'>\n",
      "Columns: 4 entries, full name to wealth\n",
      "dtypes: object(1), int64(3)"
     ]
    }
   ],
   "source": [
    "ddf.info()"
   ]
  },
  {
   "cell_type": "markdown",
   "id": "5de04689",
   "metadata": {},
   "source": [
    "#### We divide our dataset into 20 partitions with *Dask*, as the data is very large\n",
    "\n"
   ]
  },
  {
   "cell_type": "code",
   "execution_count": 12,
   "id": "b5192a38",
   "metadata": {},
   "outputs": [],
   "source": [
    "ddf_chunks = ddf.repartition(npartitions=20)"
   ]
  },
  {
   "cell_type": "markdown",
   "id": "821b670a",
   "metadata": {},
   "source": [
    "#### Let assume first that there is no duplicate name in our data, that mean, each person appear just one and display the richest person of each partition"
   ]
  },
  {
   "cell_type": "code",
   "execution_count": 14,
   "id": "cbd0848a",
   "metadata": {
    "scrolled": true
   },
   "outputs": [
    {
     "name": "stdout",
     "output_type": "stream",
     "text": [
      "              full name  income  debt     wealth\n",
      "1052691  Yvars Béatrice     267     0   45426698\n",
      "1052659  Yvars Béatrice     143     0   45426431\n",
      "1052002  Yvars Béatrice    4785     0   45426288\n",
      "1052675       Évrat Zoé    3976     0   92796382\n",
      "1052127       Évrat Zoé     327     0   92792406\n",
      "1051732       Évrat Zoé    4961     0   92792079\n",
      "1035754    Aubry Pascal    3615     0  136213069\n",
      "1035303    Aubry Pascal    3070     0  136209598\n",
      "1035553    Aubry Pascal       0  -144  136209454\n",
      "1033872   Geneau Océane     901     0  182419762\n",
      "1033654   Geneau Océane    3714     0  182418861\n",
      "1033038   Geneau Océane    4026     0  182415147\n",
      "1035457   Xharde Xavier    3968     0  229253557\n",
      "1035553   Xharde Xavier       0  -114  229253443\n",
      "1034750   Xharde Xavier    2661     0  229249589\n",
      "1035377   Xharde Xavier     462     0  272584780\n",
      "1035222   Xharde Xavier    4894     0  272584318\n",
      "1034792   Xharde Xavier    2681     0  272579685\n",
      "1019125   Xharde Xavier     797     0  318185048\n",
      "1018578   Xharde Xavier     417     0  318184251\n",
      "1017937   Xharde Xavier    2948     0  318183834\n",
      "1019326   Xharde Xavier    3658     0  360694349\n",
      "1018107   Xharde Xavier    3898     0  360690691\n",
      "1018068   Xharde Xavier    1781     0  360686793\n",
      "1018585   Urbain Océane     174     0  405909492\n",
      "1018490   Urbain Océane    2475     0  405909318\n",
      "1018366   Urbain Océane    3692     0  405906843\n",
      "1017304   Urbain Océane     452     0  451414963\n",
      "1016647   Urbain Océane    2922     0  451414511\n",
      "1014799   Urbain Océane    2434     0  451411589\n",
      "1018997   Urbain Océane    2136     0  494002431\n",
      "1017964   Urbain Océane    2125     0  494000295\n",
      "1017460   Urbain Océane    2109     0  493998170\n",
      "1019234   Urbain Océane    2428     0  539841592\n",
      "1017886   Urbain Océane    1098     0  539840098\n",
      "1018992   Urbain Océane       0  -934  539839164\n",
      "1017074   Urbain Océane    1782     0  581852619\n",
      "1017862   Urbain Océane       0  -337  581852282\n",
      "1015043   Urbain Océane    4710     0  581850837\n",
      "1019288   Urbain Océane    1431     0  627250825\n",
      "1018723   Urbain Océane    3877     0  627249394\n",
      "1018566   Urbain Océane    2252     0  627245517\n",
      "1018254   Urbain Océane    1539     0  672486895\n",
      "1016926   Urbain Océane    3897     0  672485356\n",
      "1016142   Urbain Océane    1825     0  672481459\n",
      "1015954    Walliand Zoé    4519     0  715050809\n",
      "1019322    Walliand Zoé    1043     0  715050593\n",
      "1018457    Walliand Zoé       0  -333  715050476\n",
      "1018841    Walliand Zoé    3912     0  760517131\n",
      "1018413    Walliand Zoé    2866     0  760513219\n",
      "1018234    Walliand Zoé    4378     0  760510821\n",
      "1018694    Walliand Zoé    3480     0  803154958\n",
      "1017057    Walliand Zoé    3401     0  803152669\n",
      "1018480    Walliand Zoé       0  -761  803151908\n",
      "1019070    Walliand Zoé     763     0  848512580\n",
      "1018849    Walliand Zoé    1618     0  848511817\n",
      "1018466    Walliand Zoé    1333     0  848510199\n",
      "1017731    Walliand Zoé     435     0  893775958\n",
      "1018905    Walliand Zoé       0   -65  893775893\n",
      "1017069    Walliand Zoé    3382     0  893775523\n"
     ]
    }
   ],
   "source": [
    "n_largest = 3\n",
    "\n",
    "# let's display the 3 richest person of each partition\n",
    "result = ddf_chunks.map_partitions(lambda df: df.nlargest(n_largest, 'wealth')).compute()\n",
    "\n",
    "print(result)"
   ]
  },
  {
   "cell_type": "markdown",
   "id": "9af76457",
   "metadata": {},
   "source": [
    "## We can notice that a person appears several times with different income, debt, and wealth."
   ]
  },
  {
   "cell_type": "markdown",
   "id": "e9bcb22c",
   "metadata": {},
   "source": [
    "Let's look deeper in \"Yvars Béatrice\" records for exemple"
   ]
  },
  {
   "cell_type": "code",
   "execution_count": 16,
   "id": "86d741d5",
   "metadata": {},
   "outputs": [
    {
     "name": "stdout",
     "output_type": "stream",
     "text": [
      "              full name  income  debt    wealth\n",
      "2284     Yvars Béatrice      24     0        24\n",
      "3359     Yvars Béatrice    1603     0      1627\n",
      "3736     Yvars Béatrice    2915     0      4542\n",
      "7209     Yvars Béatrice    2381     0      6923\n",
      "8509     Yvars Béatrice       0  -777      6146\n",
      "...                 ...     ...   ...       ...\n",
      "1049692  Yvars Béatrice    4530     0  45417572\n",
      "1051104  Yvars Béatrice    3931     0  45421503\n",
      "1052002  Yvars Béatrice    4785     0  45426288\n",
      "1052659  Yvars Béatrice     143     0  45426431\n",
      "1052691  Yvars Béatrice     267     0  45426698\n",
      "\n",
      "[22561 rows x 4 columns]\n"
     ]
    }
   ],
   "source": [
    "first_chunk = ddf_chunks.get_partition(0).compute()\n",
    "desired_rows = first_chunk[first_chunk['full name'] == 'Yvars Béatrice']\n",
    "\n",
    "print(desired_rows)"
   ]
  },
  {
   "cell_type": "markdown",
   "id": "e7f586a4",
   "metadata": {},
   "source": [
    "We can observe an interesting pattern: the name \"Yvars Béatrice\" appears 22,561 times.\n",
    "\n",
    " Upon closer examination, we can notice that in the first occurrence, the \"income\" amount equals the \"wealth,\" and the \"debt\" is zero, which appears logically consistent. Subsequent rows represent the sum of previous \"wealth\" and the new \"income.\" minus the \"debt\" Therefore, the last recorded line corresponds to the total wealth accumulated by \"Yvars Béatrice.\"\n",
    "\n",
    "#### In summary, this repetition of the name with variations in the \"income,\" \"wealth,\" and \"debt\" columns seems to follow a logical pattern, where the last line reflects the total wealth of \"Yvars Béatrice\", and that is all we need"
   ]
  },
  {
   "cell_type": "markdown",
   "id": "768da6ec",
   "metadata": {},
   "source": [
    "## Next step: Eliminate all duplicates based on the \"full name\" and retain only the latest occurrence."
   ]
  },
  {
   "cell_type": "code",
   "execution_count": 17,
   "id": "a4d91b0e",
   "metadata": {},
   "outputs": [],
   "source": [
    "# Remove duplicates by keeping the last occurrence in each chunk\n",
    "ddf_no_duplicates = ddf_chunks.map_partitions(lambda df: df.drop_duplicates(subset=['full name'], keep='last')).compute()\n"
   ]
  },
  {
   "cell_type": "code",
   "execution_count": 18,
   "id": "2ec00ebf",
   "metadata": {},
   "outputs": [
    {
     "data": {
      "text/plain": [
       "(13520, 4)"
      ]
     },
     "execution_count": 18,
     "metadata": {},
     "output_type": "execute_result"
    }
   ],
   "source": [
    "ddf_no_duplicates.shape"
   ]
  },
  {
   "cell_type": "code",
   "execution_count": 19,
   "id": "b568eb87",
   "metadata": {},
   "outputs": [],
   "source": [
    "ddf_no_duplicates = ddf_no_duplicates.sort_values(\"wealth\",ascending=False)"
   ]
  },
  {
   "cell_type": "code",
   "execution_count": 20,
   "id": "8b934793",
   "metadata": {},
   "outputs": [
    {
     "data": {
      "text/html": [
       "<div>\n",
       "<style scoped>\n",
       "    .dataframe tbody tr th:only-of-type {\n",
       "        vertical-align: middle;\n",
       "    }\n",
       "\n",
       "    .dataframe tbody tr th {\n",
       "        vertical-align: top;\n",
       "    }\n",
       "\n",
       "    .dataframe thead th {\n",
       "        text-align: right;\n",
       "    }\n",
       "</style>\n",
       "<table border=\"1\" class=\"dataframe\">\n",
       "  <thead>\n",
       "    <tr style=\"text-align: right;\">\n",
       "      <th></th>\n",
       "      <th>full name</th>\n",
       "      <th>income</th>\n",
       "      <th>debt</th>\n",
       "      <th>wealth</th>\n",
       "    </tr>\n",
       "  </thead>\n",
       "  <tbody>\n",
       "    <tr>\n",
       "      <th>1018905</th>\n",
       "      <td>Walliand Zoé</td>\n",
       "      <td>0</td>\n",
       "      <td>-65</td>\n",
       "      <td>893775893</td>\n",
       "    </tr>\n",
       "    <tr>\n",
       "      <th>1018982</th>\n",
       "      <td>Parmentier Gerard</td>\n",
       "      <td>0</td>\n",
       "      <td>-487</td>\n",
       "      <td>892220076</td>\n",
       "    </tr>\n",
       "    <tr>\n",
       "      <th>1019360</th>\n",
       "      <td>Urbain Océane</td>\n",
       "      <td>1960</td>\n",
       "      <td>0</td>\n",
       "      <td>891910460</td>\n",
       "    </tr>\n",
       "  </tbody>\n",
       "</table>\n",
       "</div>"
      ],
      "text/plain": [
       "                 full name  income  debt     wealth\n",
       "1018905       Walliand Zoé       0   -65  893775893\n",
       "1018982  Parmentier Gerard       0  -487  892220076\n",
       "1019360      Urbain Océane    1960     0  891910460"
      ]
     },
     "execution_count": 20,
     "metadata": {},
     "output_type": "execute_result"
    }
   ],
   "source": [
    "ddf_no_duplicates.head(3)"
   ]
  },
  {
   "cell_type": "markdown",
   "id": "2f457089",
   "metadata": {
    "scrolled": false
   },
   "source": [
    "## The 3 richest person:\n",
    "\n",
    "* Walliand Zoé : 893775893\n",
    "* Parmentier Gerard : 892220076\n",
    "* Urbain Océane : 891910460"
   ]
  },
  {
   "cell_type": "code",
   "execution_count": null,
   "id": "4b32b31e",
   "metadata": {},
   "outputs": [],
   "source": []
  }
 ],
 "metadata": {
  "kernelspec": {
   "display_name": "Python 3 (ipykernel)",
   "language": "python",
   "name": "python3"
  },
  "language_info": {
   "codemirror_mode": {
    "name": "ipython",
    "version": 3
   },
   "file_extension": ".py",
   "mimetype": "text/x-python",
   "name": "python",
   "nbconvert_exporter": "python",
   "pygments_lexer": "ipython3",
   "version": "3.9.13"
  }
 },
 "nbformat": 4,
 "nbformat_minor": 5
}
